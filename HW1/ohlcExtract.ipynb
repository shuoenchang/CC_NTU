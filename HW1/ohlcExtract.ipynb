{
 "cells": [
  {
   "cell_type": "code",
   "execution_count": 1,
   "metadata": {},
   "outputs": [],
   "source": [
    "encoding=\"big5\"\n",
    "import pandas as pd\n",
    "import sys\n",
    "import csv"
   ]
  },
  {
   "cell_type": "markdown",
   "metadata": {},
   "source": [
    "## Method 1"
   ]
  },
  {
   "cell_type": "code",
   "execution_count": 2,
   "metadata": {},
   "outputs": [
    {
     "name": "stdout",
     "output_type": "stream",
     "text": [
      "10687 10715 10652 10671\n"
     ]
    }
   ],
   "source": [
    "filename = \"Daily_2018_08_20.csv\"\n",
    "#filename = sys.argv[1]\n",
    "price=[]\n",
    "month = None\n",
    "with open(filename, encoding=\"big5\") as csvfile:\n",
    "    readCSV = csv.reader(csvfile, delimiter=',')\n",
    "    for row in readCSV:\n",
    "        if row[1].find(\"TX\")==0:\n",
    "            if((int(row[3])>=84500) & (int(row[3])<=134500)):\n",
    "                if((not month) | (month==row[2])):\n",
    "                    month = row[2]\n",
    "                    price.append(row[4])\n",
    "        del row\n",
    "print(int(price[0]), int(max(price)), int(min(price)), int(price[-1]))"
   ]
  },
  {
   "cell_type": "markdown",
   "metadata": {},
   "source": [
    "## Method 2"
   ]
  },
  {
   "cell_type": "code",
   "execution_count": 3,
   "metadata": {},
   "outputs": [],
   "source": [
    "#filename = sys.argv[1]\n",
    "filename = \"Daily_2018_08_20.csv\"\n",
    "\n",
    "with open(filename, encoding=\"big5\") as file:\n",
    "    dataset = pd.read_csv(file, usecols=[\"商品代號\", \"到期月份(週別)\", \"成交時間\", \"成交價格\"],\n",
    "                          dtype={\"商品代號\":str, \"到期月份(週別)\":str, \"成交時間\":int, \"成交價格\":float})"
   ]
  },
  {
   "cell_type": "code",
   "execution_count": 4,
   "metadata": {},
   "outputs": [
    {
     "name": "stdout",
     "output_type": "stream",
     "text": [
      "10687 10715 10652 10671\n"
     ]
    }
   ],
   "source": [
    "price=[]\n",
    "name = dataset[\"商品代號\"]\n",
    "tx = dataset[\"商品代號\"].str.find(\"TX\")\n",
    "intx = tx[tx == 0].index\n",
    "\n",
    "time = dataset[\"成交時間\"]\n",
    "intime = (time[(time >= 84500) & (time<=134500)]).index\n",
    "target = intime.intersection(intx)\n",
    "\n",
    "month = dataset[\"到期月份(週別)\"]\n",
    "corr = month[target[0]]\n",
    "inmonth = (month[(month == corr)]).index\n",
    "target = target.intersection(inmonth)\n",
    "\n",
    "for index in target:\n",
    "    price.append(dataset[\"成交價格\"][index])\n",
    "    \n",
    "print(int(price[0]), int(max(price)), int(min(price)), int(price[-1]))"
   ]
  },
  {
   "cell_type": "code",
   "execution_count": 5,
   "metadata": {},
   "outputs": [],
   "source": [
    "#10687 10715 10652 10671"
   ]
  },
  {
   "cell_type": "code",
   "execution_count": null,
   "metadata": {},
   "outputs": [],
   "source": []
  }
 ],
 "metadata": {
  "kernelspec": {
   "display_name": "Python 3",
   "language": "python",
   "name": "python3"
  },
  "language_info": {
   "codemirror_mode": {
    "name": "ipython",
    "version": 3
   },
   "file_extension": ".py",
   "mimetype": "text/x-python",
   "name": "python",
   "nbconvert_exporter": "python",
   "pygments_lexer": "ipython3",
   "version": "3.7.4"
  }
 },
 "nbformat": 4,
 "nbformat_minor": 2
}
