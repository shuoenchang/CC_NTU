{
 "cells": [
  {
   "cell_type": "code",
   "execution_count": 1,
   "metadata": {},
   "outputs": [
    {
     "name": "stdout",
     "output_type": "stream",
     "text": [
      "p = 0xfffffffffffffffffffffffffffffffffffffffffffffffffffffffefffffc2f\n",
      "a = 0x0\n",
      "b = 0x7\n",
      "x = 0x79be667ef9dcbbac55a06295ce870b07029bfcdb2dce28d959f2815b16f81798 \n",
      "y = 0x483ada7726a3c4655da4fbfc0e1108a8fd17b448a68554199c47d08ffb10d4b8\n",
      "n = 0xfffffffffffffffffffffffffffffffebaaedce6af48a03bbfd25e8cd0364141\n"
     ]
    }
   ],
   "source": [
    "import numpy as np\n",
    "from pycoin.ecdsa import generator_secp256k1 as g\n",
    "\n",
    "curve = g.curve()\n",
    "x, y = g.pair()\n",
    "n = g.order()\n",
    "print(\"p =\", hex(curve.p()))\n",
    "print(\"a =\", hex(curve.a()))\n",
    "print(\"b =\", hex(curve.b()))\n",
    "print(\"x =\", hex(x), \"\\ny =\", hex(y))\n",
    "print(\"n =\", hex(n))"
   ]
  },
  {
   "cell_type": "code",
   "execution_count": 3,
   "metadata": {},
   "outputs": [
    {
     "name": "stdout",
     "output_type": "stream",
     "text": [
      "x = 0xe493dbf1c10d80f3581e4904930b1404cc6c13900ee0758474fa94abe8c4cd13 \n",
      "y = 0x51ed993ea0d455b75642e2098ea51448d967ae33bfbdfe40cfe97bdc47739922\n"
     ]
    }
   ],
   "source": [
    "x, y = (4 * g).pair()\n",
    "print(\"x =\", hex(x), \"\\ny =\", hex(y))"
   ]
  },
  {
   "cell_type": "code",
   "execution_count": 4,
   "metadata": {},
   "outputs": [
    {
     "name": "stdout",
     "output_type": "stream",
     "text": [
      "x = 0x2f8bde4d1a07209355b4a7250a5c5128e88b84bddc619ab7cba8d569b240efe4 \n",
      "y = 0xd8ac222636e5e3d6d4dba9dda6c9c426f788271bab0d6840dca87d3aa6ac62d6\n"
     ]
    }
   ],
   "source": [
    "x, y = (5 * g).pair()\n",
    "print(\"x =\", hex(x), \"\\ny =\", hex(y))"
   ]
  },
  {
   "cell_type": "code",
   "execution_count": 5,
   "metadata": {},
   "outputs": [
    {
     "name": "stdout",
     "output_type": "stream",
     "text": [
      "x = 0x603c84e1fafe0356199e5e3f4ad75e5e09edbfd4c9d0b36e3d9b285ac7cac955 \n",
      "y = 0xdce1b80bcfdd76422ade25eab9a19ae51472677c2059beb0d782990e7fdb9da2\n"
     ]
    }
   ],
   "source": [
    "x, y = (922002 * g).pair()\n",
    "print(\"x =\", hex(x), \"\\ny =\", hex(y))"
   ]
  },
  {
   "cell_type": "code",
   "execution_count": 11,
   "metadata": {},
   "outputs": [
    {
     "name": "stdout",
     "output_type": "stream",
     "text": [
      "binary: 11110\n",
      "add: 3 \n",
      "double: 4 \n",
      "total: 7\n",
      "steps: ['init', 'd', 'a', 'd', 'a', 'd', 'a', 'd']\n",
      "decimal: 30\n"
     ]
    }
   ],
   "source": [
    "def Evaluate(steps):\n",
    "    value = 1\n",
    "    for s in steps:\n",
    "        if s is 'a': value += 1\n",
    "        if s is 'd': value *= 2\n",
    "        if s is 's': value -= 1\n",
    "    return value\n",
    "\n",
    "def DoubleAdd(bstring):\n",
    "    print(\"binary:\", bstring)\n",
    "    steps = ['init']\n",
    "    for b in bstring[1:]:\n",
    "        steps += ['d']\n",
    "        if b == '1': steps += ['a']\n",
    "            \n",
    "    print(\"add:\", steps.count('a'), \"\\ndouble:\", steps.count('d'), \"\\ntotal:\", len(steps)-1)\n",
    "    print(\"steps:\", steps)\n",
    "    print(\"decimal:\", Evaluate(steps))\n",
    "\n",
    "DoubleAdd(bin(30)[2:])"
   ]
  },
  {
   "cell_type": "code",
   "execution_count": 13,
   "metadata": {},
   "outputs": [
    {
     "name": "stdout",
     "output_type": "stream",
     "text": [
      "binary: 11100001000110010010\n",
      "add: 5 \n",
      "double: 19 \n",
      "substract: 2 \n",
      "total: 26\n",
      "steps: ['init', 'a', 'd', 'd', 's', 'd', 'd', 'd', 'd', 'd', 'a', 'd', 'd', 'd', 'a', 'd', 'd', 's', 'd', 'd', 'd', 'a', 'd', 'd', 'd', 'a', 'd']\n",
      "decimal: 922002\n"
     ]
    }
   ],
   "source": [
    "def DoubleAddSub(bstring):\n",
    "    \n",
    "    def AddOnes(ones):\n",
    "        if ones > 1:\n",
    "            return ['a'] + ['d'] * ones + ['s']\n",
    "        elif ones == 1:\n",
    "            return ['d', 'a']\n",
    "    \n",
    "    print(\"binary:\", bstring)\n",
    "    ones, steps = 0, ['init']\n",
    "    for b in bstring[1:]:\n",
    "        if b == '1':\n",
    "            ones += 1\n",
    "        else:\n",
    "            if (ones): \n",
    "                steps += AddOnes(ones)\n",
    "                ones = 0\n",
    "            steps += ['d']    \n",
    "    if (ones): \n",
    "        steps += AddOnes(ones)\n",
    "        \n",
    "    print(\"add:\", steps.count('a'), \"\\ndouble:\", steps.count('d'), \n",
    "          \"\\nsubstract:\", steps.count('s'), \"\\ntotal:\", len(steps)-1)\n",
    "    print(\"steps:\", steps)\n",
    "    print(\"decimal:\", Evaluate(steps))\n",
    "\n",
    "DoubleAddSub(bin(922002)[2:])"
   ]
  },
  {
   "cell_type": "code",
   "execution_count": 8,
   "metadata": {},
   "outputs": [],
   "source": [
    "\n",
    "def ExtendedEuclidean(n, m):\n",
    "    if (m == 0):\n",
    "        return 1, 0\n",
    "    else:\n",
    "        x, y = ExtendedEuclidean(m, n % m)\n",
    "        x, y = y, (x - (n // m) * y)\n",
    "        return x, y\n",
    "    \n",
    "def ModularInverse(k, n): # inverse of k\n",
    "    return ExtendedEuclidean(k, n)[0]"
   ]
  },
  {
   "cell_type": "code",
   "execution_count": 9,
   "metadata": {},
   "outputs": [
    {
     "name": "stdout",
     "output_type": "stream",
     "text": [
      "r = 0xedd95e9da4ba6509dc91cc47c3acb8fec508450fcfa88a09b30a884b6bef8dfa \n",
      "s = 0x2ab3d0670c35f9c8f5bd22e15fb398e64b35dde84e18d6eed4c634578e7b4c21\n"
     ]
    }
   ],
   "source": [
    "d = 922002 # private key\n",
    "QA = d * g\n",
    "\n",
    "z = 0x38316DC32F31B3BC25DC18A61E682E86837877689209A3EC1562CE59E47CE13B # \"qhan1028\" (SHA256)\n",
    "k = 1028 # random k, ephemeral key\n",
    "x1, y1 = (k * g).pair()\n",
    "\n",
    "n = g.order() # mod n\n",
    "K = ModularInverse(k, n) # k inverse\n",
    "r = x1 % n\n",
    "s = K * (z + r * d) % n\n",
    "print(\"r =\", hex(r), \"\\ns =\", hex(s))"
   ]
  },
  {
   "cell_type": "code",
   "execution_count": 10,
   "metadata": {},
   "outputs": [
    {
     "name": "stdout",
     "output_type": "stream",
     "text": [
      "QA valid\n",
      "Verified\n"
     ]
    }
   ],
   "source": [
    "x, y = QA.pair()\n",
    "p = curve.p()\n",
    "if ((y ** 2) % p == (x ** 3 + 7) % p): print(\"QA valid\")\n",
    "\n",
    "z = 0x38316DC32F31B3BC25DC18A61E682E86837877689209A3EC1562CE59E47CE13B # \"qhan1028\" (SHA256)\n",
    "w = ModularInverse(s, n)\n",
    "u1 = z * w % n\n",
    "u2 = r * w % n\n",
    "x1, y1 = (u1 * g + u2 * QA).pair()\n",
    "if (r % n == x1): print(\"Verified\")"
   ]
  },
  {
   "cell_type": "code",
   "execution_count": null,
   "metadata": {},
   "outputs": [],
   "source": []
  }
 ],
 "metadata": {
  "kernelspec": {
   "display_name": "Python 3",
   "language": "python",
   "name": "python3"
  },
  "language_info": {
   "codemirror_mode": {
    "name": "ipython",
    "version": 3
   },
   "file_extension": ".py",
   "mimetype": "text/x-python",
   "name": "python",
   "nbconvert_exporter": "python",
   "pygments_lexer": "ipython3",
   "version": "3.5.6"
  }
 },
 "nbformat": 4,
 "nbformat_minor": 2
}
