{
 "cells": [
  {
   "cell_type": "code",
   "execution_count": 1,
   "metadata": {},
   "outputs": [],
   "source": [
    "import pycoin.ecdsa.secp256k1 as secp256k1\n",
    "g = secp256k1.secp256k1_generator"
   ]
  },
  {
   "cell_type": "markdown",
   "metadata": {},
   "source": [
    "## Base point G"
   ]
  },
  {
   "cell_type": "code",
   "execution_count": 2,
   "metadata": {},
   "outputs": [
    {
     "name": "stdout",
     "output_type": "stream",
     "text": [
      "x = 0x79be667ef9dcbbac55a06295ce870b07029bfcdb2dce28d959f2815b16f81798 \n",
      "y = 0x483ada7726a3c4655da4fbfc0e1108a8fd17b448a68554199c47d08ffb10d4b8\n"
     ]
    }
   ],
   "source": [
    "x = hex(g.raw_mul(1)[0])\n",
    "y = hex(g.raw_mul(1)[1])\n",
    "print('x =', x, '\\ny =', y)"
   ]
  },
  {
   "cell_type": "markdown",
   "metadata": {},
   "source": [
    "## 1. Evaluate 4G"
   ]
  },
  {
   "cell_type": "code",
   "execution_count": 3,
   "metadata": {},
   "outputs": [
    {
     "name": "stdout",
     "output_type": "stream",
     "text": [
      "x = 0xe493dbf1c10d80f3581e4904930b1404cc6c13900ee0758474fa94abe8c4cd13 \n",
      "y = 0x51ed993ea0d455b75642e2098ea51448d967ae33bfbdfe40cfe97bdc47739922\n"
     ]
    }
   ],
   "source": [
    "(x_4, y_4) = g.raw_mul(4)\n",
    "print('x =', hex(x_4), '\\ny =', hex(y_4))"
   ]
  },
  {
   "cell_type": "markdown",
   "metadata": {},
   "source": [
    "## 2. Evaluate 5G"
   ]
  },
  {
   "cell_type": "code",
   "execution_count": 4,
   "metadata": {},
   "outputs": [
    {
     "name": "stdout",
     "output_type": "stream",
     "text": [
      "x = 0x2f8bde4d1a07209355b4a7250a5c5128e88b84bddc619ab7cba8d569b240efe4 \n",
      "y = 0xd8ac222636e5e3d6d4dba9dda6c9c426f788271bab0d6840dca87d3aa6ac62d6\n"
     ]
    }
   ],
   "source": [
    "(x_5, y_5) = g.raw_mul(5)\n",
    "print('x =', hex(x_5), '\\ny =', hex(y_5))"
   ]
  },
  {
   "cell_type": "markdown",
   "metadata": {},
   "source": [
    "## 3. Evaluate Q = dG"
   ]
  },
  {
   "cell_type": "code",
   "execution_count": 5,
   "metadata": {},
   "outputs": [
    {
     "name": "stdout",
     "output_type": "stream",
     "text": [
      "x = 0x603c84e1fafe0356199e5e3f4ad75e5e09edbfd4c9d0b36e3d9b285ac7cac955 \n",
      "y = 0xdce1b80bcfdd76422ade25eab9a19ae51472677c2059beb0d782990e7fdb9da2\n"
     ]
    }
   ],
   "source": [
    "d = 922002\n",
    "(x_d, y_d) = g.raw_mul(d)\n",
    "print('x =', hex(x_d), '\\ny =', hex(y_d))"
   ]
  },
  {
   "cell_type": "markdown",
   "metadata": {},
   "source": [
    "## 4. How many doubles and additions respectively are required to evaluate dG?"
   ]
  },
  {
   "cell_type": "code",
   "execution_count": 6,
   "metadata": {},
   "outputs": [
    {
     "name": "stdout",
     "output_type": "stream",
     "text": [
      "922002 G = 11100001000110010010 G\n",
      "\n",
      "1 \t initial\n",
      "10 \t double\n",
      "11 \t add\n",
      "110 \t double\n",
      "111 \t add\n",
      "1110 \t double\n",
      "11100 \t double\n",
      "111000 \t double\n",
      "1110000 \t double\n",
      "11100000 \t double\n",
      "11100001 \t add\n",
      "111000010 \t double\n",
      "1110000100 \t double\n",
      "11100001000 \t double\n",
      "111000010000 \t double\n",
      "111000010001 \t add\n",
      "1110000100010 \t double\n",
      "1110000100011 \t add\n",
      "11100001000110 \t double\n",
      "111000010001100 \t double\n",
      "1110000100011000 \t double\n",
      "1110000100011001 \t add\n",
      "11100001000110010 \t double\n",
      "111000010001100100 \t double\n",
      "1110000100011001000 \t double\n",
      "1110000100011001001 \t add\n",
      "11100001000110010010 \t double\n",
      "\n",
      "double: 19\n",
      "add: 7\n",
      "number: 922002\n"
     ]
    }
   ],
   "source": [
    "d = 922002\n",
    "\n",
    "binary = bin(d)[2:]\n",
    "print(d, 'G =', binary, 'G\\n')\n",
    "double = 0\n",
    "add = 0\n",
    "\n",
    "number = int(binary[0], 2)\n",
    "print(number, '\\t initial')\n",
    "for i in range(1, len(binary)):\n",
    "    if binary[i]=='0':\n",
    "        number*=2\n",
    "        double+=1\n",
    "        print(bin(number)[2:], '\\t double')\n",
    "    elif binary[i]=='1':\n",
    "        number*=2\n",
    "        double+=1\n",
    "        print(bin(number)[2:], '\\t double')\n",
    "        number+=1\n",
    "        add += 1\n",
    "        print(bin(number)[2:], '\\t add')\n",
    "print('\\ndouble:', double)\n",
    "print('add:', add)\n",
    "print('number:', number)"
   ]
  },
  {
   "cell_type": "markdown",
   "metadata": {},
   "source": [
    "## 5.  Try your best to evaluate dG as fast as possible."
   ]
  },
  {
   "cell_type": "code",
   "execution_count": 7,
   "metadata": {},
   "outputs": [
    {
     "name": "stdout",
     "output_type": "stream",
     "text": [
      "922002 G = 11100001000110010010 G\n",
      "\n",
      "1 \t initial\n",
      "10 \t add\n",
      "100 \t double\n",
      "1000 \t double\n",
      "111 \t sub\n",
      "1110 \t double\n",
      "11100 \t double\n",
      "111000 \t double\n",
      "1110000 \t double\n",
      "11100000 \t double\n",
      "11100001 \t add\n",
      "111000010 \t double\n",
      "1110000100 \t double\n",
      "11100001000 \t double\n",
      "11100001001 \t add\n",
      "111000010010 \t double\n",
      "1110000100100 \t double\n",
      "1110000100011 \t sub\n",
      "11100001000110 \t double\n",
      "111000010001100 \t double\n",
      "1110000100011000 \t double\n",
      "1110000100011001 \t add\n",
      "11100001000110010 \t double\n",
      "111000010001100100 \t double\n",
      "1110000100011001000 \t double\n",
      "1110000100011001001 \t add\n",
      "11100001000110010010 \t double\n",
      "\n",
      "double: 19\n",
      "add: 5\n",
      "sub: 2\n",
      "number: 922002\n"
     ]
    }
   ],
   "source": [
    "d = 922002\n",
    "\n",
    "binary = bin(d)[2:]\n",
    "print(d, 'G =', binary, 'G\\n')\n",
    "double = 0\n",
    "add = 0\n",
    "sub = 0\n",
    "pos = 0\n",
    "\n",
    "number = int(binary[0], 2)\n",
    "print(number, '\\t initial')\n",
    "for i in range(1, len(binary)):\n",
    "    if i<pos:\n",
    "        continue\n",
    "    if binary[i]=='0':\n",
    "        number*=2\n",
    "        double+=1\n",
    "        print(bin(number)[2:], '\\t double')\n",
    "    elif binary[i]=='1':\n",
    "        if i+1<len(binary) and binary[i+1]=='1':\n",
    "            number+=1\n",
    "            add+=1\n",
    "            print(bin(number)[2:], '\\t add')\n",
    "\n",
    "            for j in range(i, len(binary)+1):\n",
    "                if j==len(binary) or binary[j]=='0':\n",
    "                    number-=1\n",
    "                    sub+=1\n",
    "                    print(bin(number)[2:], '\\t sub')\n",
    "                    pos=j\n",
    "                    break\n",
    "                elif binary[j]=='1':\n",
    "                    number*=2\n",
    "                    double+=1\n",
    "                    print(bin(number)[2:], '\\t double')\n",
    "        else:\n",
    "            number*=2\n",
    "            double+=1\n",
    "            print(bin(number)[2:], '\\t double')\n",
    "            number+=1\n",
    "            add += 1\n",
    "            print(bin(number)[2:], '\\t add')\n",
    "                \n",
    "print('\\ndouble:', double)\n",
    "print('add:', add)\n",
    "print('sub:', sub)\n",
    "print('number:', number)"
   ]
  },
  {
   "cell_type": "markdown",
   "metadata": {},
   "source": [
    "## 6. Sign the transaction with random number k and private key d."
   ]
  },
  {
   "cell_type": "code",
   "execution_count": 8,
   "metadata": {},
   "outputs": [
    {
     "name": "stdout",
     "output_type": "stream",
     "text": [
      "r = 0xd58997d512a6905308c8aeb080f215c22ba908130f2f518c4943e450ef3353e3\n",
      "s = 0x8c1f3a483ec78c56fcea98e6a9119b2312f110e4d227ad3eff825bd647e61621\n"
     ]
    }
   ],
   "source": [
    "import pycoin.ecdsa.secp256k1 as secp256k1\n",
    "import random\n",
    "g = secp256k1.secp256k1_generator\n",
    "\n",
    "z = 0x38316DC32F31B3BC25DC18A61E682E86837877689209A3EC1562CE59E47CE13B # transaction after hash\n",
    "n = g.order()\n",
    "k = random.randint(1, n-1) # cryptographically secure random\n",
    "d = 922002 # private key\n",
    "\n",
    "(x_1, y_1) = g.raw_mul(k)\n",
    "r = x_1 % n\n",
    "k_inv = g.inverse_mod(k, n)\n",
    "s = k_inv*(z+r*d) % n\n",
    "print('r =', hex(r))\n",
    "print('s =', hex(s))"
   ]
  },
  {
   "cell_type": "markdown",
   "metadata": {},
   "source": [
    "## 7. Verify the digital signature with your public key Q."
   ]
  },
  {
   "cell_type": "code",
   "execution_count": 9,
   "metadata": {},
   "outputs": [
    {
     "name": "stdout",
     "output_type": "stream",
     "text": [
      "valid Q\n",
      "\n",
      "valid signature\n",
      "    r  mod n = 0xd58997d512a6905308c8aeb080f215c22ba908130f2f518c4943e450ef3353e3\n",
      "   x_1 mod n = 0xd58997d512a6905308c8aeb080f215c22ba908130f2f518c4943e450ef3353e3\n"
     ]
    }
   ],
   "source": [
    "import pycoin.ecdsa.secp256k1 as secp256k1\n",
    "import random\n",
    "g = secp256k1.secp256k1_generator\n",
    "\n",
    "z = 0x38316DC32F31B3BC25DC18A61E682E86837877689209A3EC1562CE59E47CE13B # transaction after hash\n",
    "n = g.order()\n",
    "d = 922002\n",
    "r = r\n",
    "s = s\n",
    "Q = g.raw_mul(d)\n",
    "\n",
    "if g.contains_point(Q[0], Q[1]):\n",
    "    print('valid Q\\n')\n",
    "else:\n",
    "    print('invalid Q\\n')\n",
    "\n",
    "s_inv = g.inverse_mod(s, n)\n",
    "u_1 = (z*s_inv) % n\n",
    "u_2 = (r*s_inv) % n\n",
    "(x_1, y_1) = g.raw_mul(u_1)+g.multiply(Q, u_2)\n",
    "if r%n==x_1%n:\n",
    "    print('valid signature')\n",
    "else:\n",
    "    print('invalid signature')\n",
    "print('    r  mod n =', hex(r%n))\n",
    "print('   x_1 mod n =', hex(x_1%n))"
   ]
  },
  {
   "cell_type": "code",
   "execution_count": null,
   "metadata": {},
   "outputs": [],
   "source": []
  }
 ],
 "metadata": {
  "kernelspec": {
   "display_name": "Python 3",
   "language": "python",
   "name": "python3"
  },
  "language_info": {
   "codemirror_mode": {
    "name": "ipython",
    "version": 3
   },
   "file_extension": ".py",
   "mimetype": "text/x-python",
   "name": "python",
   "nbconvert_exporter": "python",
   "pygments_lexer": "ipython3",
   "version": "3.5.6"
  }
 },
 "nbformat": 4,
 "nbformat_minor": 2
}
