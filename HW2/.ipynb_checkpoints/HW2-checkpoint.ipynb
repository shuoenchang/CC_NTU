{
 "cells": [
  {
   "cell_type": "code",
   "execution_count": 108,
   "metadata": {},
   "outputs": [],
   "source": [
    "import sys\n",
    "import numpy as np\n",
    "import pandas as pd\n",
    "\n",
    "# Compute return rate over a given price vector, with 3 modifiable parameters\n",
    "def computeReturnRate(priceVec, windowSize, alpha, beta):\n",
    "    capital=10000    # Initial available capital\n",
    "    capitalOrig=capital     # original capital\n",
    "    dataCount=len(priceVec)                # day size\n",
    "    suggestedAction=np.zeros((dataCount,1))    # Vec of suggested actions\n",
    "    stockHolding=np.zeros((dataCount,1))      # Vec of stock holdings\n",
    "    total=np.zeros((dataCount,1))         # Vec of total asset\n",
    "    realAction=np.zeros((dataCount,1))    # Real action, which might be different from suggested action. For instance, when the suggested action is 1 (buy) but you don't have any capital, then the real action is 0 (hold, or do nothing). \n",
    "    # Run through each day\n",
    "    for ic in range(dataCount):\n",
    "        currentPrice=priceVec[ic]    # current price\n",
    "        suggestedAction[ic]=myStrategy(priceVec[0:ic], currentPrice, windowSize, alpha, beta)        # Obtain the suggested action\n",
    "        # get real action by suggested action\n",
    "        if ic>0:\n",
    "            stockHolding[ic]=stockHolding[ic-1]    # The stock holding from the previous day\n",
    "        if suggestedAction[ic]==1:    # Suggested action is \"buy\"\n",
    "            if stockHolding[ic]==0:        # \"buy\" only if you don't have stock holding\n",
    "                stockHolding[ic]=capital/currentPrice # Buy stock using cash\n",
    "                capital=0    # Cash\n",
    "                realAction[ic]=1\n",
    "        elif suggestedAction[ic]==-1:    # Suggested action is \"sell\"\n",
    "            if stockHolding[ic]>0:        # \"sell\" only if you have stock holding\n",
    "                capital=stockHolding[ic]*currentPrice # Sell stock to have cash\n",
    "                stockHolding[ic]=0    # Stocking holding\n",
    "                realAction[ic]=-1\n",
    "        elif suggestedAction[ic]==0:    # No action\n",
    "            realAction[ic]=0\n",
    "        else:\n",
    "            assert False\n",
    "        total[ic]=capital+stockHolding[ic]*currentPrice    # Total asset, including stock holding and cash \n",
    "    returnRate=(total[-1]-capitalOrig)/capitalOrig        # Return rate of this run\n",
    "    return returnRate"
   ]
  },
  {
   "cell_type": "code",
   "execution_count": 157,
   "metadata": {},
   "outputs": [],
   "source": [
    "# Decision of the current day by the current price, with 3 modifiable parameters\n",
    "def myStrategy(pastPriceVec, currentPrice, windowSize, alpha, beta):\n",
    "    import numpy as np\n",
    "    from talib import BBANDS, RSI, EMA\n",
    "    dataLen = len(pastPriceVec)\n",
    "\taction=0\t\t# action=1(buy), -1(sell), 0(hold), with 0 as the default action\n",
    "\tdataLen=len(pastPriceVec)\t\t# Length of the data vector\n",
    "\tif dataLen==0: \n",
    "\t\treturn action\n",
    "\t# Compute MA\n",
    "\tif dataLen<windowSize:\n",
    "\t\tma=np.mean(pastPriceVec)\t# If given price vector is small than windowSize, compute MA by taking the average\n",
    "\telse:\n",
    "\t\twindowedData=pastPriceVec[-windowSize:]\t\t# Compute the normal MA using windowSize \n",
    "\t\tma=np.mean(windowedData)\n",
    "\t# Determine action\n",
    "\tif (currentPrice-ma)>alpha:\t\t# If price-ma > alpha ==> buy\n",
    "\t\taction=1\n",
    "\telif (currentPrice-ma)<-beta:\t# If price-ma < -beta ==> sell\n",
    "\t\taction=-1\n",
    "    return action"
   ]
  },
  {
   "cell_type": "code",
   "execution_count": 158,
   "metadata": {
    "scrolled": true
   },
   "outputs": [
    {
     "name": "stdout",
     "output_type": "stream",
     "text": [
      "Best settings: windowSize=26, alpha=0.000000, beta=7.000000 ==> returnRate=2.242870\n"
     ]
    }
   ],
   "source": [
    "if __name__=='__main__':\n",
    "    returnRateBest=-1.00     # Initial best return rate\n",
    "    file_name = \"data/IAU.csv\"\n",
    "    df=pd.read_csv(file_name)    # read stock file\n",
    "    adjClose=df[\"Adj Close\"].values        # get adj close as the price vector\n",
    "    windowSizeMin=26; windowSizeMax=27;    # Range of windowSize to explore\n",
    "    alphaMin=0; alphaMax=3;            # Range of alpha to explore\n",
    "    betaMin=2; betaMax=11               # Range of beta to explore\n",
    "    # Start exhaustive search\n",
    "    for windowSize in range(windowSizeMin, windowSizeMax+1, 1):        # For-loop for windowSize\n",
    "        #print(\"windowSize=%d\" %(windowSize))\n",
    "        for alpha in range(alphaMin, alphaMax, 5):            # For-loop for alpha\n",
    "            #print(\"\\talpha=%.1f\" %(alpha))\n",
    "            for beta in range(betaMin, betaMax, 5):        # For-loop for beta\n",
    "                #print(\"\\t\\tbeta=%.1f\" %(beta), end=\"\")    # No newline\n",
    "                returnRate=computeReturnRate(adjClose, windowSize, alpha, beta)        # Start the whole run with the given parameters\n",
    "                #print(\" ==> returnRate=%f \" %(returnRate))\n",
    "                if returnRate > returnRateBest:        # Keep the best parameters\n",
    "                    windowSizeBest=windowSize\n",
    "                    alphaBest=alpha\n",
    "                    betaBest=beta\n",
    "                    returnRateBest=returnRate\n",
    "    print(\"Best settings: windowSize=%d, alpha=%f, beta=%f ==> returnRate=%f\" %(windowSizeBest,alphaBest,betaBest,returnRateBest))        # Print the best result"
   ]
  },
  {
   "cell_type": "code",
   "execution_count": 35,
   "metadata": {},
   "outputs": [],
   "source": [
    "# MA : 2.575183\n",
    "#   SPY: windowSize=40, alpha=7, beta=20 ==> returnRate=3.193493\n",
    "#   DSI: windowSize=17, alpha=2, beta=10 ==> returnRate=3.282897\n",
    "#   IAU: windowSize=26, alpha=0, beta=2 ==> returnRate=2.512694\n",
    "#   LQD: windowSize=5, alpha=0, beta=1 ==> returnRate=1.323488"
   ]
  },
  {
   "cell_type": "code",
   "execution_count": null,
   "metadata": {},
   "outputs": [],
   "source": [
    "# EMA : \n",
    "#   SPY: windowSize=37, alpha=7, beta=20 ==> returnRate=3.227214\n",
    "#   DSI: windowSize=17, alpha=2, beta=10 ==> returnRate=3.282897\n",
    "#   IAU: windowSize=26, alpha=0, beta=2 ==> returnRate=2.358789\n",
    "#   LQD: windowSize=5, alpha=0, beta=1 ==> returnRate=1.332634"
   ]
  },
  {
   "cell_type": "code",
   "execution_count": null,
   "metadata": {},
   "outputs": [],
   "source": [
    "# RSI : 2.520975\n",
    "#   SPY: windowSize=28, alpha=80, beta=30 ==> returnRate=3.770681\n",
    "#   DSI: windowSize=26, alpha=80, beta=30 ==> returnRate=2.302867\n",
    "#   IAU: windowSize=23, alpha=80, beta=40 ==> returnRate=2.792104\n",
    "#   LQD: windowSize=30, alpha=80, beta=30 ==> returnRate=1.218496\n",
    "\n",
    "\n",
    "\n",
    "# .  windowSize=8, alpha=15.000000, beta=95.000000 ==> returnRate=1.327081"
   ]
  }
 ],
 "metadata": {
  "kernelspec": {
   "display_name": "Python 3",
   "language": "python",
   "name": "python3"
  },
  "language_info": {
   "codemirror_mode": {
    "name": "ipython",
    "version": 3
   },
   "file_extension": ".py",
   "mimetype": "text/x-python",
   "name": "python",
   "nbconvert_exporter": "python",
   "pygments_lexer": "ipython3",
   "version": "3.7.4"
  }
 },
 "nbformat": 4,
 "nbformat_minor": 2
}
